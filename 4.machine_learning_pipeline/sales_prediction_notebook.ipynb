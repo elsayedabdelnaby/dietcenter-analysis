{
 "cells": [
  {
   "cell_type": "markdown",
   "id": "93f1ee6b",
   "metadata": {},
   "source": [
    "# Sales Amount Prediction Model"
   ]
  },
  {
   "cell_type": "code",
   "execution_count": null,
   "id": "77b3646b",
   "metadata": {},
   "outputs": [
    {
     "name": "stdout",
     "output_type": "stream",
     "text": [
      "<class 'pandas.core.frame.DataFrame'>\n",
      "RangeIndex: 5865 entries, 0 to 5864\n",
      "Data columns (total 48 columns):\n",
      " #   Column                           Non-Null Count  Dtype  \n",
      "---  ------                           --------------  -----  \n",
      " 0   id_program                       5865 non-null   int64  \n",
      " 1   customer_id                      5865 non-null   int64  \n",
      " 2   program_id                       5865 non-null   int64  \n",
      " 3   promocode_id                     5864 non-null   float64\n",
      " 4   paid                             5865 non-null   int64  \n",
      " 5   paid_amount                      5865 non-null   float64\n",
      " 6   delivery_start_date              5865 non-null   object \n",
      " 7   total_days                       5865 non-null   int64  \n",
      " 8   free_days                        5865 non-null   int64  \n",
      " 9   status                           5865 non-null   object \n",
      " 10  created_at_program               5865 non-null   object \n",
      " 11  diet_program_name                5865 non-null   object \n",
      " 12  master_plan_name                 5781 non-null   object \n",
      " 13  subscribe_year                   5865 non-null   int64  \n",
      " 14  subscribe_month                  5865 non-null   int64  \n",
      " 15  subscribe_day                    5865 non-null   int64  \n",
      " 16  subscribe_weekday                5865 non-null   object \n",
      " 17  subscribe_quarter                5865 non-null   int64  \n",
      " 18  subscribe_month_name             5865 non-null   object \n",
      " 19  created_month_year_str_program   5865 non-null   object \n",
      " 20  created_month_year               5865 non-null   object \n",
      " 21  delivery_duration_days           5865 non-null   int64  \n",
      " 22  id_customer                      5865 non-null   int64  \n",
      " 23  username                         5865 non-null   object \n",
      " 24  email                            3075 non-null   object \n",
      " 25  nationality                      5865 non-null   object \n",
      " 26  gender                           5865 non-null   object \n",
      " 27  date_of_birth                    5865 non-null   object \n",
      " 28  age                              5865 non-null   float64\n",
      " 29  height                           5865 non-null   float64\n",
      " 30  weight                           5865 non-null   float64\n",
      " 31  created_at_customer              5863 non-null   object \n",
      " 32  deleted_at                       0 non-null      float64\n",
      " 33  birth_year                       5865 non-null   int64  \n",
      " 34  birth_month                      5865 non-null   int64  \n",
      " 35  birth_day                        5865 non-null   int64  \n",
      " 36  birth_weekday                    5865 non-null   object \n",
      " 37  birth_quarter                    5865 non-null   int64  \n",
      " 38  created_year                     5863 non-null   float64\n",
      " 39  created_month                    5863 non-null   float64\n",
      " 40  created_month_name               5863 non-null   object \n",
      " 41  created_day                      5863 non-null   float64\n",
      " 42  created_weekday                  5863 non-null   object \n",
      " 43  created_quarter                  5863 non-null   float64\n",
      " 44  email_domain                     3062 non-null   object \n",
      " 45  gender_encoded                   5865 non-null   int64  \n",
      " 46  bmi                              5865 non-null   float64\n",
      " 47  created_month_year_str_customer  5863 non-null   object \n",
      "dtypes: float64(11), int64(17), object(20)\n",
      "memory usage: 2.1+ MB\n"
     ]
    }
   ],
   "source": [
    "import pandas as pd\n",
    "import numpy as np\n",
    "from sklearn.model_selection import train_test_split\n",
    "from sklearn.preprocessing import StandardScaler, OneHotEncoder\n",
    "from sklearn.impute import SimpleImputer\n",
    "from sklearn.compose import ColumnTransformer\n",
    "from sklearn.pipeline import Pipeline\n",
    "import joblib\n",
    "from sklearn.linear_model import LinearRegression\n",
    "from sklearn.ensemble import RandomForestRegressor\n",
    "from sklearn.metrics import mean_squared_error, r2_score\n",
    "\n",
    "# Load the dataset\n",
    "df = pd.read_csv('https://drive.google.com/file/d/1vqxpwQTbh80GILVhrm-id6efxcXjn3mu/view?usp=drive_link')\n",
    "df.info()"
   ]
  },
  {
   "cell_type": "markdown",
   "id": "59071125",
   "metadata": {},
   "source": [
    "## 2. Target Variable Identification and Feature Separation"
   ]
  },
  {
   "cell_type": "code",
   "execution_count": 9,
   "id": "3dbdadda",
   "metadata": {},
   "outputs": [
    {
     "name": "stdout",
     "output_type": "stream",
     "text": [
      "Target variable identified: paid_amount\n",
      "Shape of features (X): (5865, 47)\n",
      "Shape of target (y): (5865,)\n"
     ]
    }
   ],
   "source": [
    "# Define target variable\n",
    "target = \"paid_amount\"\n",
    "\n",
    "# Separate features (X) and target (y)\n",
    "X = df.drop(columns=[target])\n",
    "y = df[target]\n",
    "\n",
    "print(f\"Target variable identified: {target}\")\n",
    "print(f\"Shape of features (X): {X.shape}\")\n",
    "print(f\"Shape of target (y): {y.shape}\")"
   ]
  },
  {
   "cell_type": "markdown",
   "id": "1c54e544",
   "metadata": {},
   "source": [
    "## 3. Feature Identification"
   ]
  },
  {
   "cell_type": "code",
   "execution_count": 10,
   "id": "13271a29",
   "metadata": {},
   "outputs": [
    {
     "name": "stdout",
     "output_type": "stream",
     "text": [
      "Numerical Features: ['paid', 'total_days', 'free_days', 'subscribe_year', 'subscribe_month', 'subscribe_day', 'subscribe_quarter', 'delivery_duration_days', 'id_customer', 'age', 'height', 'weight', 'birth_year', 'birth_month', 'birth_day', 'birth_quarter', 'created_year', 'created_month', 'created_day', 'created_quarter', 'gender_encoded', 'bmi']\n",
      "Categorical Features: ['status', 'diet_program_name', 'master_plan_name', 'subscribe_weekday', 'username', 'email', 'nationality', 'gender', 'birth_weekday', 'created_month_name', 'created_weekday', 'email_domain']\n"
     ]
    }
   ],
   "source": [
    "# Columns to exclude from automatic type inference for features\n",
    "exclude_cols = [target, 'id_program', 'customer_id', 'program_id', 'promocode_id', \n",
    "                'created_at_program', 'delivery_start_date', 'created_at_customer', 'date_of_birth',\n",
    "                'deleted_at', 'created_month_year_str_program', 'created_month_year_str_customer',\n",
    "                'subscribe_month_name', 'created_month_year']\n",
    "\n",
    "# Identify numerical features\n",
    "numerical_features = X.select_dtypes(include=np.number).columns.tolist()\n",
    "numerical_features = [col for col in numerical_features if col not in exclude_cols]\n",
    "\n",
    "# Identify categorical features\n",
    "categorical_features = X.select_dtypes(include='object').columns.tolist()\n",
    "categorical_features = [col for col in categorical_features if col not in exclude_cols]\n",
    "\n",
    "print(\"Numerical Features:\", numerical_features)\n",
    "print(\"Categorical Features:\", categorical_features)"
   ]
  },
  {
   "cell_type": "markdown",
   "id": "43a39fba",
   "metadata": {},
   "source": [
    "## 4. Data Splitting"
   ]
  },
  {
   "cell_type": "code",
   "execution_count": 11,
   "id": "b9cf61b4",
   "metadata": {},
   "outputs": [
    {
     "name": "stdout",
     "output_type": "stream",
     "text": [
      "Shape of X_train: (4692, 47)\n",
      "Shape of X_test: (1173, 47)\n",
      "Shape of y_train: (4692,)\n",
      "Shape of y_test: (1173,)\n"
     ]
    }
   ],
   "source": [
    "# Split data into training and testing sets\n",
    "X_train, X_test, y_train, y_test = train_test_split(X, y, test_size=0.2, random_state=42)\n",
    "\n",
    "print(f\"Shape of X_train: {X_train.shape}\")\n",
    "print(f\"Shape of X_test: {X_test.shape}\")\n",
    "print(f\"Shape of y_train: {y_train.shape}\")\n",
    "print(f\"Shape of y_test: {y_test.shape}\")"
   ]
  },
  {
   "cell_type": "markdown",
   "id": "14428d27",
   "metadata": {},
   "source": [
    "## 5. Preprocessing Pipeline"
   ]
  },
  {
   "cell_type": "code",
   "execution_count": 12,
   "id": "86545b25",
   "metadata": {},
   "outputs": [
    {
     "name": "stdout",
     "output_type": "stream",
     "text": [
      "Preprocessing pipeline created and applied.\n",
      "Shape of processed X_train: (4692, 4512)\n",
      "Shape of processed X_test: (1173, 4512)\n"
     ]
    }
   ],
   "source": [
    "# Numerical pipeline: Imputation + Scaling\n",
    "numerical_transformer = Pipeline(steps=[\n",
    "    (\"imputer\", SimpleImputer(strategy=\"mean\")),\n",
    "    (\"scaler\", StandardScaler())\n",
    "])\n",
    "\n",
    "# Categorical pipeline: Imputation + One-Hot Encoding\n",
    "categorical_transformer = Pipeline(steps=[\n",
    "    (\"imputer\", SimpleImputer(strategy=\"most_frequent\")),\n",
    "    (\"onehot\", OneHotEncoder(handle_unknown=\"ignore\"))\n",
    "])\n",
    "\n",
    "# Create a preprocessor object using ColumnTransformer\n",
    "preprocessor = ColumnTransformer(\n",
    "    transformers=[\n",
    "        (\"num\", numerical_transformer, numerical_features),\n",
    "        (\"cat\", categorical_transformer, categorical_features)\n",
    "    ])\n",
    "\n",
    "# Fit and transform the training data\n",
    "X_train_processed = preprocessor.fit_transform(X_train)\n",
    "\n",
    "# Transform the test data\n",
    "X_test_processed = preprocessor.transform(X_test)\n",
    "\n",
    "# Save the preprocessor for future use\n",
    "joblib.dump(preprocessor, \"preprocessor.pkl\")\n",
    "\n",
    "print(\"Preprocessing pipeline created and applied.\")\n",
    "print(f\"Shape of processed X_train: {X_train_processed.shape}\")\n",
    "print(f\"Shape of processed X_test: {X_test_processed.shape}\")"
   ]
  },
  {
   "cell_type": "markdown",
   "id": "22637343",
   "metadata": {},
   "source": [
    "## 6. Model Training and Evaluation - Linear Regression"
   ]
  },
  {
   "cell_type": "code",
   "execution_count": 13,
   "id": "f46bae62",
   "metadata": {},
   "outputs": [
    {
     "name": "stdout",
     "output_type": "stream",
     "text": [
      "Linear Regression - Mean Squared Error: 2564.33\n",
      "Linear Regression - R-squared: 0.31\n",
      "Linear Regression model trained and saved.\n"
     ]
    }
   ],
   "source": [
    "# Initialize and train the Linear Regression model\n",
    "linear_model = LinearRegression()\n",
    "linear_model.fit(X_train_processed, y_train)\n",
    "\n",
    "# Make predictions on the test set\n",
    "y_pred_lr = linear_model.predict(X_test_processed)\n",
    "\n",
    "# Evaluate the model\n",
    "mse_lr = mean_squared_error(y_test, y_pred_lr)\n",
    "r2_lr = r2_score(y_test, y_pred_lr)\n",
    "\n",
    "print(f\"Linear Regression - Mean Squared Error: {mse_lr:.2f}\")\n",
    "print(f\"Linear Regression - R-squared: {r2_lr:.2f}\")\n",
    "\n",
    "# Save the trained model\n",
    "joblib.dump(linear_model, \"linear_regression_model.pkl\")\n",
    "print(\"Linear Regression model trained and saved.\")"
   ]
  },
  {
   "cell_type": "markdown",
   "id": "b0ba5a33",
   "metadata": {},
   "source": [
    "## 7. Model Training and Evaluation - RandomForestRegressor"
   ]
  },
  {
   "cell_type": "code",
   "execution_count": 14,
   "id": "a027c5d0",
   "metadata": {},
   "outputs": [
    {
     "name": "stdout",
     "output_type": "stream",
     "text": [
      "RandomForestRegressor - Mean Squared Error: 1524.88\n",
      "RandomForestRegressor - R-squared: 0.59\n",
      "RandomForestRegressor model trained and saved.\n"
     ]
    }
   ],
   "source": [
    "# Initialize and train the RandomForestRegressor model\n",
    "# Using default parameters for now, can tune later if needed\n",
    "rf_model = RandomForestRegressor(random_state=42)\n",
    "rf_model.fit(X_train_processed, y_train)\n",
    "\n",
    "# Make predictions on the test set\n",
    "y_pred_rf = rf_model.predict(X_test_processed)\n",
    "\n",
    "# Evaluate the model\n",
    "mse_rf = mean_squared_error(y_test, y_pred_rf)\n",
    "r2_rf = r2_score(y_test, y_pred_rf)\n",
    "\n",
    "print(f\"RandomForestRegressor - Mean Squared Error: {mse_rf:.2f}\")\n",
    "print(f\"RandomForestRegressor - R-squared: {r2_rf:.2f}\")\n",
    "\n",
    "# Save the trained model\n",
    "joblib.dump(rf_model, \"random_forest_regressor_model.pkl\")\n",
    "print(\"RandomForestRegressor model trained and saved.\")"
   ]
  }
 ],
 "metadata": {
  "kernelspec": {
   "display_name": "base",
   "language": "python",
   "name": "python3"
  },
  "language_info": {
   "codemirror_mode": {
    "name": "ipython",
    "version": 3
   },
   "file_extension": ".py",
   "mimetype": "text/x-python",
   "name": "python",
   "nbconvert_exporter": "python",
   "pygments_lexer": "ipython3",
   "version": "3.12.3"
  }
 },
 "nbformat": 4,
 "nbformat_minor": 5
}
