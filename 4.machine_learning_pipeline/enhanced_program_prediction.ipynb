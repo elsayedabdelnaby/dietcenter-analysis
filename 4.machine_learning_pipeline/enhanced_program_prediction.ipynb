{
 "cells": [
  {
   "cell_type": "code",
   "execution_count": 1,
   "id": "c146c3ca",
   "metadata": {},
   "outputs": [],
   "source": [
    "import pandas as pd\n",
    "import numpy as np\n",
    "import matplotlib.pyplot as plt\n",
    "import seaborn as sns\n",
    "from sklearn.model_selection import train_test_split, GridSearchCV, cross_val_score\n",
    "from sklearn.preprocessing import StandardScaler, OneHotEncoder\n",
    "from sklearn.impute import SimpleImputer\n",
    "from sklearn.compose import ColumnTransformer\n",
    "from sklearn.pipeline import Pipeline\n",
    "from sklearn.ensemble import RandomForestClassifier, GradientBoostingClassifier, VotingClassifier\n",
    "from sklearn.linear_model import LogisticRegression\n",
    "from sklearn.svm import SVC\n",
    "from sklearn.metrics import accuracy_score, classification_report, confusion_matrix, f1_score\n",
    "from sklearn.feature_selection import SelectKBest, f_classif\n",
    "from imblearn.over_sampling import SMOTE\n",
    "import joblib\n",
    "import warnings\n",
    "warnings.filterwarnings('ignore')"
   ]
  },
  {
   "cell_type": "code",
   "execution_count": null,
   "id": "5a4e9692",
   "metadata": {},
   "outputs": [
    {
     "name": "stdout",
     "output_type": "stream",
     "text": [
      "<class 'pandas.core.frame.DataFrame'>\n",
      "RangeIndex: 5865 entries, 0 to 5864\n",
      "Data columns (total 48 columns):\n",
      " #   Column                           Non-Null Count  Dtype  \n",
      "---  ------                           --------------  -----  \n",
      " 0   id_program                       5865 non-null   int64  \n",
      " 1   customer_id                      5865 non-null   int64  \n",
      " 2   program_id                       5865 non-null   int64  \n",
      " 3   promocode_id                     5864 non-null   float64\n",
      " 4   paid                             5865 non-null   int64  \n",
      " 5   paid_amount                      5865 non-null   float64\n",
      " 6   delivery_start_date              5865 non-null   object \n",
      " 7   total_days                       5865 non-null   int64  \n",
      " 8   free_days                        5865 non-null   int64  \n",
      " 9   status                           5865 non-null   object \n",
      " 10  created_at_program               5865 non-null   object \n",
      " 11  diet_program_name                5865 non-null   object \n",
      " 12  master_plan_name                 5781 non-null   object \n",
      " 13  subscribe_year                   5865 non-null   int64  \n",
      " 14  subscribe_month                  5865 non-null   int64  \n",
      " 15  subscribe_day                    5865 non-null   int64  \n",
      " 16  subscribe_weekday                5865 non-null   object \n",
      " 17  subscribe_quarter                5865 non-null   int64  \n",
      " 18  subscribe_month_name             5865 non-null   object \n",
      " 19  created_month_year_str_program   5865 non-null   object \n",
      " 20  created_month_year               5865 non-null   object \n",
      " 21  delivery_duration_days           5865 non-null   int64  \n",
      " 22  id_customer                      5865 non-null   int64  \n",
      " 23  username                         5865 non-null   object \n",
      " 24  email                            3075 non-null   object \n",
      " 25  nationality                      5865 non-null   object \n",
      " 26  gender                           5865 non-null   object \n",
      " 27  date_of_birth                    5865 non-null   object \n",
      " 28  age                              5865 non-null   float64\n",
      " 29  height                           5865 non-null   float64\n",
      " 30  weight                           5865 non-null   float64\n",
      " 31  created_at_customer              5863 non-null   object \n",
      " 32  deleted_at                       0 non-null      float64\n",
      " 33  birth_year                       5865 non-null   int64  \n",
      " 34  birth_month                      5865 non-null   int64  \n",
      " 35  birth_day                        5865 non-null   int64  \n",
      " 36  birth_weekday                    5865 non-null   object \n",
      " 37  birth_quarter                    5865 non-null   int64  \n",
      " 38  created_year                     5863 non-null   float64\n",
      " 39  created_month                    5863 non-null   float64\n",
      " 40  created_month_name               5863 non-null   object \n",
      " 41  created_day                      5863 non-null   float64\n",
      " 42  created_weekday                  5863 non-null   object \n",
      " 43  created_quarter                  5863 non-null   float64\n",
      " 44  email_domain                     3062 non-null   object \n",
      " 45  gender_encoded                   5865 non-null   int64  \n",
      " 46  bmi                              5865 non-null   float64\n",
      " 47  created_month_year_str_customer  5863 non-null   object \n",
      "dtypes: float64(11), int64(17), object(20)\n",
      "memory usage: 2.1+ MB\n"
     ]
    }
   ],
   "source": [
    "# Load the dataset\n",
    "df = pd.read_csv('https://drive.google.com/file/d/1vqxpwQTbh80GILVhrm-id6efxcXjn3mu/view?usp=drive_link')\n",
    "df.info()"
   ]
  },
  {
   "cell_type": "code",
   "execution_count": 3,
   "id": "08758753",
   "metadata": {},
   "outputs": [],
   "source": [
    "# new features\n",
    "# 1. Time-based features\n",
    "df_enhanced = df.copy()\n",
    "df_enhanced['subscription_season'] = pd.cut(\n",
    "    df_enhanced['subscribe_month'], \n",
    "    bins=[0, 3, 6, 9, 12], \n",
    "    labels=['Winter', 'Spring', 'Summer', 'Fall']\n",
    ")\n",
    "\n",
    "df_enhanced['is_weekend'] = df_enhanced['subscribe_weekday'].isin(['Saturday', 'Sunday']).astype(int)\n",
    "\n",
    "# 2. Customer age groups\n",
    "df_enhanced['age_group'] = pd.cut(\n",
    "    df_enhanced['age'], \n",
    "    bins=[0, 25, 35, 45, 55, 100], \n",
    "    labels=['18-25', '26-35', '36-45', '46-55', '55+']\n",
    ")\n",
    "\n",
    "# 3. BMI categories\n",
    "df_enhanced['bmi_category'] = pd.cut(\n",
    "    df_enhanced['bmi'], \n",
    "    bins=[0, 18.5, 25, 30, 100], \n",
    "    labels=['Underweight', 'Normal', 'Overweight', 'Obese']\n",
    ")\n",
    "\n",
    "# 4. Program duration categories\n",
    "df_enhanced['duration_category'] = pd.cut(\n",
    "    df_enhanced['total_days'], \n",
    "    bins=[0, 7, 14, 30, 1000], \n",
    "    labels=['Short', 'Medium', 'Long', 'Extended']\n",
    ")\n",
    "\n",
    "# 5. Price categories\n",
    "df_enhanced['price_category'] = pd.cut(\n",
    "    df_enhanced['paid_amount'], \n",
    "    bins=[0, 100, 200, 500, 10000], \n",
    "    labels=['Low', 'Medium', 'High', 'Premium']\n",
    ")\n",
    "\n",
    "# 6. Interaction features\n",
    "df_enhanced['age_bmi_interaction'] = df_enhanced['age'] * df_enhanced['bmi'] / 100\n",
    "df_enhanced['weight_height_ratio'] = df_enhanced['weight'] / (df_enhanced['height'] / 100)\n",
    "df_enhanced['price_per_day'] = df_enhanced['paid_amount'] / df_enhanced['total_days']\n",
    "\n",
    "# 7. Customer engagement features\n",
    "df_enhanced['days_since_birth'] = (df_enhanced['subscribe_year'] - df_enhanced['birth_year']) * 365\n",
    "df_enhanced['customer_tenure'] = df_enhanced['subscribe_year'] - df_enhanced['created_year']\n",
    "\n",
    "# 8. Program complexity features\n",
    "df_enhanced['has_free_days'] = (df_enhanced['free_days'] > 0).astype(int)\n",
    "df_enhanced['delivery_efficiency'] = df_enhanced['delivery_duration_days'] / df_enhanced['total_days']\n",
    "\n",
    "new_features = set(df_enhanced.columns) - set(df.columns)"
   ]
  },
  {
   "cell_type": "code",
   "execution_count": 4,
   "id": "35ab6482",
   "metadata": {},
   "outputs": [
    {
     "data": {
      "text/plain": [
       "program_id\n",
       "5637170869    465\n",
       "5637170867    418\n",
       "5637177579    317\n",
       "5637167080    281\n",
       "5637180581    269\n",
       "             ... \n",
       "5637179081      1\n",
       "5637170078      1\n",
       "5637176870      1\n",
       "5637170886      1\n",
       "5637180585      1\n",
       "Name: count, Length: 196, dtype: int64"
      ]
     },
     "execution_count": 4,
     "metadata": {},
     "output_type": "execute_result"
    }
   ],
   "source": [
    "target = \"program_id\"\n",
    "\n",
    "# Analyze class distribution\n",
    "class_counts = df_enhanced[target].value_counts()\n",
    "class_counts"
   ]
  },
  {
   "cell_type": "code",
   "execution_count": 5,
   "id": "f8c7fb3b",
   "metadata": {},
   "outputs": [
    {
     "data": {
      "image/png": "[encoded data removed]",
      "text/plain": [
       "<Figure size 1200x600 with 2 Axes>"
      ]
     },
     "metadata": {},
     "output_type": "display_data"
    }
   ],
   "source": [
    "plt.figure(figsize=(12, 6))\n",
    "plt.subplot(1, 2, 1)\n",
    "class_counts.head(20).plot(kind='bar')\n",
    "plt.title('Top 20 Most Common Programs')\n",
    "plt.xticks(rotation=45)\n",
    "\n",
    "plt.subplot(1, 2, 2)\n",
    "plt.hist(class_counts.values, bins=50)\n",
    "plt.title('Distribution of Class Sizes')\n",
    "plt.xlabel('Number of samples per class')\n",
    "plt.ylabel('Number of classes')\n",
    "plt.tight_layout()\n",
    "plt.show()"
   ]
  },
  {
   "cell_type": "code",
   "execution_count": 6,
   "id": "36ac4b2c",
   "metadata": {},
   "outputs": [
    {
     "data": {
      "text/plain": [
       "465.0"
      ]
     },
     "execution_count": 6,
     "metadata": {},
     "output_type": "execute_result"
    }
   ],
   "source": [
    "# Calculate imbalance metrics\n",
    "imbalance_ratio = class_counts.max() / class_counts.min()\n",
    "imbalance_ratio"
   ]
  },
  {
   "cell_type": "code",
   "execution_count": 7,
   "id": "6ca7f3a5",
   "metadata": {},
   "outputs": [
    {
     "data": {
      "text/plain": [
       "['paid',\n",
       " 'paid_amount',\n",
       " 'total_days',\n",
       " 'free_days',\n",
       " 'subscribe_year',\n",
       " 'subscribe_month',\n",
       " 'subscribe_day',\n",
       " 'subscribe_quarter',\n",
       " 'delivery_duration_days',\n",
       " 'id_customer',\n",
       " 'age',\n",
       " 'height',\n",
       " 'weight',\n",
       " 'birth_year',\n",
       " 'birth_month',\n",
       " 'birth_day',\n",
       " 'birth_quarter',\n",
       " 'created_year',\n",
       " 'created_month',\n",
       " 'created_day',\n",
       " 'created_quarter',\n",
       " 'gender_encoded',\n",
       " 'bmi',\n",
       " 'is_weekend',\n",
       " 'age_bmi_interaction',\n",
       " 'weight_height_ratio',\n",
       " 'price_per_day',\n",
       " 'days_since_birth',\n",
       " 'customer_tenure',\n",
       " 'has_free_days',\n",
       " 'delivery_efficiency']"
      ]
     },
     "metadata": {},
     "output_type": "display_data"
    },
    {
     "data": {
      "text/plain": [
       "['status',\n",
       " 'subscribe_weekday',\n",
       " 'username',\n",
       " 'email',\n",
       " 'nationality',\n",
       " 'gender',\n",
       " 'birth_weekday',\n",
       " 'created_month_name',\n",
       " 'created_weekday',\n",
       " 'email_domain']"
      ]
     },
     "metadata": {},
     "output_type": "display_data"
    }
   ],
   "source": [
    "# Separate features and target\n",
    "exclude_cols = [\n",
    "    target, 'id_program', 'customer_id', 'promocode_id', \n",
    "    'created_at_program', 'delivery_start_date', 'created_at_customer', \n",
    "    'date_of_birth', 'deleted_at', 'created_month_year_str_program', \n",
    "    'created_month_year_str_customer', 'subscribe_month_name', \n",
    "    'created_month_year', 'diet_program_name', 'master_plan_name'\n",
    "]\n",
    "\n",
    "X = df_enhanced.drop(columns=exclude_cols)\n",
    "y = df_enhanced[target]\n",
    "\n",
    "# Identify feature types\n",
    "numerical_features = X.select_dtypes(include=np.number).columns.tolist()\n",
    "categorical_features = X.select_dtypes(include='object').columns.tolist()\n",
    "display(numerical_features, categorical_features)"
   ]
  },
  {
   "cell_type": "code",
   "execution_count": 8,
   "id": "0f2103d9",
   "metadata": {},
   "outputs": [
    {
     "data": {
      "text/plain": [
       "Index([5637170869, 5637170867, 5637177579, 5637167080, 5637180581, 5637167077,\n",
       "       5637177578, 5637167101, 5637170870, 5637169333,\n",
       "       ...\n",
       "       5637170904, 5637167829, 5637170081, 5637170079, 5637169339, 5637170909,\n",
       "       5637170905, 5637170887, 5637170906, 5637180589],\n",
       "      dtype='int64', name='program_id', length=166)"
      ]
     },
     "execution_count": 8,
     "metadata": {},
     "output_type": "execute_result"
    }
   ],
   "source": [
    "class_counts = y.value_counts()\n",
    "# Filter out classes with insufficient samples for stratification\n",
    "min_samples_for_stratification = 2\n",
    "valid_classes = class_counts[class_counts >= min_samples_for_stratification].index\n",
    "valid_classes"
   ]
  },
  {
   "cell_type": "code",
   "execution_count": 9,
   "id": "f839e06b",
   "metadata": {},
   "outputs": [],
   "source": [
    "# Filter data to only include classes with sufficient samples\n",
    "mask = y.isin(valid_classes)\n",
    "X_filtered = X[mask]\n",
    "y_filtered = y[mask]"
   ]
  },
  {
   "cell_type": "code",
   "execution_count": 10,
   "id": "21bb4bbc",
   "metadata": {},
   "outputs": [],
   "source": [
    "X_train, X_test, y_train, y_test = train_test_split(\n",
    "    X_filtered, y_filtered, test_size=0.2, random_state=42, stratify=y_filtered\n",
    ")"
   ]
  },
  {
   "cell_type": "code",
   "execution_count": 11,
   "id": "1635c89f",
   "metadata": {},
   "outputs": [],
   "source": [
    "train_class_counts = y_train.value_counts()"
   ]
  },
  {
   "cell_type": "code",
   "execution_count": 12,
   "id": "24440fb8",
   "metadata": {},
   "outputs": [],
   "source": [
    "# Filter out classes with too few samples\n",
    "min_samples_per_class = 5\n",
    "valid_classes = train_class_counts[train_class_counts >= min_samples_per_class].index"
   ]
  },
  {
   "cell_type": "code",
   "execution_count": 13,
   "id": "d668ecac",
   "metadata": {},
   "outputs": [],
   "source": [
    "# Filter training data\n",
    "train_mask = y_train.isin(valid_classes)\n",
    "X_train_filtered = X_train[train_mask]\n",
    "y_train_filtered = y_train[train_mask]"
   ]
  },
  {
   "cell_type": "code",
   "execution_count": 14,
   "id": "f8c90d5a",
   "metadata": {},
   "outputs": [
    {
     "data": {
      "text/plain": [
       "80"
      ]
     },
     "execution_count": 14,
     "metadata": {},
     "output_type": "execute_result"
    }
   ],
   "source": [
    "# Check for infinity values\n",
    "inf_count = np.isinf(X_train_filtered.select_dtypes(include=[np.number])).sum().sum()\n",
    "inf_count"
   ]
  },
  {
   "cell_type": "code",
   "execution_count": 15,
   "id": "90d46c8d",
   "metadata": {},
   "outputs": [
    {
     "name": "stdout",
     "output_type": "stream",
     "text": [
      "Extreme values replaced: 5108\n"
     ]
    }
   ],
   "source": [
    "# Check for extreme values\n",
    "numerical_cols = X_train_filtered.select_dtypes(include=[np.number]).columns\n",
    "extreme_values = 0\n",
    "\n",
    "for col in numerical_cols:\n",
    "    Q1 = X_train_filtered[col].quantile(0.25)\n",
    "    Q3 = X_train_filtered[col].quantile(0.75)\n",
    "    IQR = Q3 - Q1\n",
    "    lower_bound = Q1 - 3 * IQR  # Using 3*IQR for more conservative outlier detection\n",
    "    upper_bound = Q3 + 3 * IQR\n",
    "    \n",
    "    extreme_mask = (X_train_filtered[col] < lower_bound) | (X_train_filtered[col] > upper_bound)\n",
    "    extreme_values += extreme_mask.sum()\n",
    "    \n",
    "    # Replace extreme values with bounds\n",
    "    X_train_filtered.loc[extreme_mask, col] = X_train_filtered[col].median()\n",
    "\n",
    "print(f\"Extreme values replaced: {extreme_values}\")"
   ]
  },
  {
   "cell_type": "code",
   "execution_count": 16,
   "id": "65293fd3",
   "metadata": {},
   "outputs": [],
   "source": [
    "# Replace infinity values with median\n",
    "for col in numerical_cols:\n",
    "    inf_mask = np.isinf(X_train_filtered[col])\n",
    "    if inf_mask.any():\n",
    "        X_train_filtered.loc[inf_mask, col] = X_train_filtered[col].median()\n",
    "\n",
    "# Check for any remaining problematic values\n",
    "remaining_inf = np.isinf(X_train_filtered.select_dtypes(include=[np.number])).sum().sum()\n",
    "remaining_nan = X_train_filtered.isnull().sum().sum()"
   ]
  },
  {
   "cell_type": "code",
   "execution_count": 17,
   "id": "8eea1d75",
   "metadata": {},
   "outputs": [
    {
     "data": {
      "text/plain": [
       "<4500x4140 sparse matrix of type '<class 'numpy.float64'>'\n",
       "\twith 166500 stored elements in Compressed Sparse Row format>"
      ]
     },
     "execution_count": 17,
     "metadata": {},
     "output_type": "execute_result"
    }
   ],
   "source": [
    "# Create a simple preprocessor for SMOTE\n",
    "numerical_transformer_simple = Pipeline(steps=[\n",
    "    (\"imputer\", SimpleImputer(strategy=\"median\")),\n",
    "    (\"scaler\", StandardScaler())\n",
    "])\n",
    "\n",
    "categorical_transformer_simple = Pipeline(steps=[\n",
    "    (\"imputer\", SimpleImputer(strategy=\"most_frequent\")),\n",
    "    (\"onehot\", OneHotEncoder(handle_unknown=\"ignore\"))\n",
    "])\n",
    "\n",
    "# Create preprocessor for SMOTE\n",
    "preprocessor_smote = ColumnTransformer(\n",
    "    transformers=[\n",
    "        (\"num\", numerical_transformer_simple, numerical_features),\n",
    "        (\"cat\", categorical_transformer_simple, categorical_features)\n",
    "    ],\n",
    "    remainder='drop'\n",
    ")\n",
    "\n",
    "# Apply preprocessing to training data\n",
    "X_train_processed_for_smote = preprocessor_smote.fit_transform(X_train_filtered)\n",
    "X_train_processed_for_smote"
   ]
  },
  {
   "cell_type": "code",
   "execution_count": 18,
   "id": "2476bded",
   "metadata": {},
   "outputs": [],
   "source": [
    "smote = SMOTE(random_state=42, k_neighbors=3)\n",
    "X_train_balanced, y_train_balanced = smote.fit_resample(X_train_processed_for_smote, y_train_filtered)"
   ]
  },
  {
   "cell_type": "code",
   "execution_count": 19,
   "id": "86685e75",
   "metadata": {},
   "outputs": [
    {
     "name": "stdout",
     "output_type": "stream",
     "text": [
      "program_id\n",
      "5637169327    372\n",
      "5637170884    372\n",
      "5637173082    372\n",
      "5637170859    372\n",
      "5637174590    372\n",
      "5637180579    372\n",
      "5637167081    372\n",
      "5637171577    372\n",
      "5637172400    372\n",
      "5637176859    372\n",
      "Name: count, dtype: int64\n"
     ]
    },
    {
     "data": {
      "text/plain": [
       "['smote_preprocessor.pkl']"
      ]
     },
     "execution_count": 19,
     "metadata": {},
     "output_type": "execute_result"
    }
   ],
   "source": [
    "print(pd.Series(y_train_balanced).value_counts().head(10))\n",
    "\n",
    "# Save the SMOTE preprocessor for later use\n",
    "joblib.dump(preprocessor_smote, \"smote_preprocessor.pkl\")"
   ]
  },
  {
   "cell_type": "markdown",
   "id": "d5578c82",
   "metadata": {},
   "source": [
    "### PREPROCESSING PIPELINE"
   ]
  },
  {
   "cell_type": "code",
   "execution_count": 20,
   "id": "ac1ba1fa",
   "metadata": {},
   "outputs": [
    {
     "data": {
      "text/plain": [
       "13"
      ]
     },
     "execution_count": 20,
     "metadata": {},
     "output_type": "execute_result"
    }
   ],
   "source": [
    "inf_count_test = np.isinf(X_test.select_dtypes(include=[np.number])).sum().sum()\n",
    "inf_count_test"
   ]
  },
  {
   "cell_type": "code",
   "execution_count": 21,
   "id": "ae8bdc84",
   "metadata": {},
   "outputs": [
    {
     "data": {
      "text/plain": [
       "1323"
      ]
     },
     "execution_count": 21,
     "metadata": {},
     "output_type": "execute_result"
    }
   ],
   "source": [
    "# Check for extreme values in test data\n",
    "numerical_cols_test = X_test.select_dtypes(include=[np.number]).columns\n",
    "extreme_values_test = 0\n",
    "\n",
    "for col in numerical_cols_test:\n",
    "    Q1 = X_test[col].quantile(0.25)\n",
    "    Q3 = X_test[col].quantile(0.75)\n",
    "    IQR = Q3 - Q1\n",
    "    lower_bound = Q1 - 3 * IQR\n",
    "    upper_bound = Q3 + 3 * IQR\n",
    "    \n",
    "    extreme_mask = (X_test[col] < lower_bound) | (X_test[col] > upper_bound)\n",
    "    extreme_values_test += extreme_mask.sum()\n",
    "    \n",
    "    # Replace extreme values with bounds\n",
    "    X_test.loc[extreme_mask, col] = X_test[col].median()\n",
    "extreme_values_test"
   ]
  },
  {
   "cell_type": "code",
   "execution_count": 22,
   "id": "71cba2f2",
   "metadata": {},
   "outputs": [
    {
     "data": {
      "text/plain": [
       "0"
      ]
     },
     "metadata": {},
     "output_type": "display_data"
    },
    {
     "data": {
      "text/plain": [
       "1418"
      ]
     },
     "metadata": {},
     "output_type": "display_data"
    }
   ],
   "source": [
    "for col in numerical_cols_test:\n",
    "    inf_mask = np.isinf(X_test[col])\n",
    "    if inf_mask.any():\n",
    "        X_test.loc[inf_mask, col] = X_test[col].median()\n",
    "\n",
    "# Check for any remaining problematic values in test data\n",
    "remaining_inf_test = np.isinf(X_test.select_dtypes(include=[np.number])).sum().sum()\n",
    "remaining_nan_test = X_test.isnull().sum().sum()\n",
    "display(remaining_inf_test, remaining_nan_test)"
   ]
  },
  {
   "cell_type": "code",
   "execution_count": 23,
   "id": "c09bf3d8",
   "metadata": {},
   "outputs": [],
   "source": [
    "# Now apply preprocessing to cleaned test data\n",
    "X_test_processed = preprocessor_smote.transform(X_test)\n",
    "\n",
    "# Check for any problematic values in test data\n",
    "# Convert sparse matrix to dense if needed for checking\n",
    "if hasattr(X_test_processed, 'toarray'):\n",
    "    X_test_processed_dense = X_test_processed.toarray()\n",
    "else:\n",
    "    X_test_processed_dense = X_test_processed"
   ]
  },
  {
   "cell_type": "code",
   "execution_count": 24,
   "id": "e36d4df5",
   "metadata": {},
   "outputs": [],
   "source": [
    "nan_count_test = np.isnan(X_test_processed_dense).sum()\n",
    "inf_count_test = np.isinf(X_test_processed_dense).sum()"
   ]
  },
  {
   "cell_type": "code",
   "execution_count": 25,
   "id": "d403b1bb",
   "metadata": {},
   "outputs": [],
   "source": [
    "if nan_count_test > 0 or inf_count_test > 0:\n",
    "    print(\"⚠️ Cleaning test data...\")\n",
    "    if hasattr(X_test_processed, 'toarray'):\n",
    "        # Convert to dense, clean, then back to sparse\n",
    "        X_test_processed_dense = np.nan_to_num(X_test_processed_dense, nan=0.0, posinf=0.0, neginf=0.0)\n",
    "        from scipy.sparse import csr_matrix\n",
    "        X_test_processed = csr_matrix(X_test_processed_dense)\n",
    "    else:\n",
    "        X_test_processed = np.nan_to_num(X_test_processed, nan=0.0, posinf=0.0, neginf=0.0)\n"
   ]
  },
  {
   "cell_type": "code",
   "execution_count": 26,
   "id": "214e0c05",
   "metadata": {},
   "outputs": [],
   "source": [
    "# Create feature selector\n",
    "feature_selector = SelectKBest(score_func=f_classif, k=100)\n",
    "\n",
    "# Fit on training data and transform both\n",
    "X_train_selected = feature_selector.fit_transform(X_train_balanced, y_train_balanced)\n",
    "X_test_selected = feature_selector.transform(X_test_processed)"
   ]
  },
  {
   "cell_type": "code",
   "execution_count": 27,
   "id": "2ad60b86",
   "metadata": {},
   "outputs": [
    {
     "data": {
      "text/plain": [
       "['enhanced_feature_selector.pkl']"
      ]
     },
     "execution_count": 27,
     "metadata": {},
     "output_type": "execute_result"
    }
   ],
   "source": [
    "joblib.dump(feature_selector, \"enhanced_feature_selector.pkl\")"
   ]
  },
  {
   "cell_type": "markdown",
   "id": "4e626200",
   "metadata": {},
   "source": [
    "# HYPERPARAMETER TUNING"
   ]
  },
  {
   "cell_type": "code",
   "execution_count": 28,
   "id": "92b657ca",
   "metadata": {},
   "outputs": [
    {
     "name": "stdout",
     "output_type": "stream",
     "text": [
      "Fitting 3 folds for each of 48 candidates, totalling 144 fits\n",
      "Best Random Forest parameters: {'max_depth': None, 'max_features': 'sqrt', 'min_samples_leaf': 1, 'min_samples_split': 2, 'n_estimators': 200}\n",
      "Best Random Forest score: 0.9536\n"
     ]
    }
   ],
   "source": [
    "# Random Forest parameter grid\n",
    "rf_param_grid = {\n",
    "    'n_estimators': [100, 200],          \n",
    "    'max_depth': [10, 20, None],          \n",
    "    'min_samples_split': [2, 5],         \n",
    "    'min_samples_leaf': [1, 2],          \n",
    "    'max_features': ['sqrt', 'log2']     \n",
    "}\n",
    "\n",
    "# Grid search for Random Forest\n",
    "rf_grid_search = GridSearchCV(\n",
    "    RandomForestClassifier(random_state=42),\n",
    "    rf_param_grid,\n",
    "    cv=3,\n",
    "    scoring='f1_weighted',\n",
    "    n_jobs=-1,\n",
    "    verbose=1\n",
    ")\n",
    "\n",
    "rf_grid_search.fit(X_train_selected, y_train_balanced)\n",
    "\n",
    "print(f\"Best Random Forest parameters: {rf_grid_search.best_params_}\")\n",
    "print(f\"Best Random Forest score: {rf_grid_search.best_score_:.4f}\")\n",
    "\n",
    "best_rf = rf_grid_search.best_estimator_"
   ]
  },
  {
   "cell_type": "code",
   "execution_count": null,
   "id": "c692cfe2",
   "metadata": {},
   "outputs": [
    {
     "name": "stdout",
     "output_type": "stream",
     "text": [
      "Fitting 3 folds for each of 16 candidates, totalling 48 fits\n"
     ]
    }
   ],
   "source": [
    "# Gradient Boosting parameter grid\n",
    "gb_param_grid = {\n",
    "    'n_estimators': [100, 200], \n",
    "    'learning_rate': [0.1, 0.2],\n",
    "    'max_depth': [3, 5],        \n",
    "    'subsample': [0.8, 1.0]     \n",
    "}\n",
    "\n",
    "# Grid search for Gradient Boosting\n",
    "gb_grid_search = GridSearchCV(\n",
    "    GradientBoostingClassifier(random_state=42),\n",
    "    gb_param_grid,\n",
    "    cv=3,\n",
    "    scoring='f1_weighted',\n",
    "    n_jobs=-1,\n",
    "    verbose=1\n",
    ")\n",
    "\n",
    "gb_grid_search.fit(X_train_selected, y_train_balanced)\n",
    "\n",
    "print(f\"Best Gradient Boosting parameters: {gb_grid_search.best_params_}\")\n",
    "print(f\"Best Gradient Boosting score: {gb_grid_search.best_score_:.4f}\")\n",
    "\n",
    "best_gb = gb_grid_search.best_estimator_"
   ]
  },
  {
   "cell_type": "markdown",
   "id": "36c53b0a",
   "metadata": {},
   "source": [
    "# CREATE ENSEMBLE MODEL"
   ]
  },
  {
   "cell_type": "code",
   "execution_count": null,
   "id": "8ee29f4b",
   "metadata": {},
   "outputs": [],
   "source": [
    "# Train additional models\n",
    "svm_model = SVC(probability=True, random_state=42)\n",
    "lr_model = LogisticRegression(random_state=42, max_iter=1000)\n",
    "\n",
    "# Train individual models\n",
    "print(\"Training SVM...\")\n",
    "svm_model.fit(X_train_selected, y_train_balanced)\n",
    "\n",
    "print(\"Training Logistic Regression...\")\n",
    "lr_model.fit(X_train_selected, y_train_balanced)\n",
    "\n",
    "# Create voting classifier\n",
    "voting_classifier = VotingClassifier(\n",
    "    estimators=[\n",
    "        ('rf', best_rf),\n",
    "        ('gb', best_gb),\n",
    "        ('svm', svm_model),\n",
    "        ('lr', lr_model)\n",
    "    ],\n",
    "    voting='soft'\n",
    ")\n",
    "\n",
    "# Train ensemble\n",
    "print(\"Training ensemble model...\")\n",
    "voting_classifier.fit(X_train_selected, y_train_balanced)"
   ]
  },
  {
   "cell_type": "code",
   "execution_count": null,
   "id": "922d179b",
   "metadata": {},
   "outputs": [],
   "source": [
    "# Create models dictionary\n",
    "models = {\n",
    "    'Random Forest': best_rf,\n",
    "    'Gradient Boosting': best_gb,\n",
    "    'SVM': svm_model,\n",
    "    'Logistic Regression': lr_model,\n",
    "    'Ensemble': voting_classifier\n",
    "}\n",
    "\n",
    "# Evaluate each model\n",
    "results = {}\n",
    "print(\"Model Performance Comparison:\")\n",
    "print(\"=\" * 60)\n",
    "\n",
    "for name, model in models.items():\n",
    "    y_pred = model.predict(X_test_selected)\n",
    "    accuracy = accuracy_score(y_test, y_pred)\n",
    "    f1 = f1_score(y_test, y_pred, average='weighted')\n",
    "    \n",
    "    results[name] = {'accuracy': accuracy, 'f1_score': f1}\n",
    "    print(f\"{name:20} | Accuracy: {accuracy:.4f} | F1-Score: {f1:.4f}\")\n",
    "\n",
    "# Find best model\n",
    "best_model_name = max(results.keys(), key=lambda x: results[x]['f1_score'])\n",
    "best_model = models[best_model_name]\n",
    "\n",
    "print(f\"\\n🏆 Best model: {best_model_name}\")\n",
    "print(f\"Best F1-Score: {results[best_model_name]['f1_score']:.4f}\")"
   ]
  },
  {
   "cell_type": "code",
   "execution_count": null,
   "id": "93b04ffb",
   "metadata": {},
   "outputs": [],
   "source": [
    "# Get predictions from best model\n",
    "y_pred_final = best_model.predict(X_test_selected)\n",
    "y_pred_proba = best_model.predict_proba(X_test_selected)\n",
    "\n",
    "print(f\"Final Model: {best_model_name}\")\n",
    "print(\"=\" * 50)\n",
    "print(f\"Accuracy: {accuracy_score(y_test, y_pred_final):.4f}\")\n",
    "print(f\"F1-Score (Weighted): {f1_score(y_test, y_pred_final, average='weighted'):.4f}\")\n",
    "print(f\"F1-Score (Macro): {f1_score(y_test, y_pred_final, average='macro'):.4f}\")\n",
    "\n",
    "# Classification report for top classes\n",
    "top_classes = y_test.value_counts().head(10).index\n",
    "y_test_top = y_test[y_test.isin(top_classes)]\n",
    "y_pred_top = y_pred_final[y_test.isin(top_classes)]\n",
    "\n",
    "print(\"\\nClassification Report (Top 10 Classes):\")\n",
    "print(classification_report(y_test_top, y_pred_top))"
   ]
  },
  {
   "cell_type": "code",
   "execution_count": null,
   "id": "14ce7c99",
   "metadata": {},
   "outputs": [],
   "source": []
  },
  {
   "cell_type": "code",
   "execution_count": null,
   "id": "cd83a581",
   "metadata": {},
   "outputs": [],
   "source": []
  }
 ],
 "metadata": {
  "kernelspec": {
   "display_name": "base",
   "language": "python",
   "name": "python3"
  },
  "language_info": {
   "codemirror_mode": {
    "name": "ipython",
    "version": 3
   },
   "file_extension": ".py",
   "mimetype": "text/x-python",
   "name": "python",
   "nbconvert_exporter": "python",
   "pygments_lexer": "ipython3",
   "version": "3.12.3"
  }
 },
 "nbformat": 4,
 "nbformat_minor": 5
}
